{
 "cells": [
  {
   "cell_type": "code",
   "execution_count": 3,
   "id": "f76b214a",
   "metadata": {},
   "outputs": [],
   "source": [
    "import itertools\n",
    "import matplotlib.pyplot as plt\n",
    "from matplotlib.ticker import NullFormatter\n",
    "import pandas as pd\n",
    "import numpy as np\n",
    "import matplotlib.ticker as ticker\n",
    "import sklearn as sk\n",
    "from sklearn import preprocessing\n",
    "from sklearn.model_selection import train_test_split\n",
    "from sklearn.neighbors import KNeighborsClassifier\n",
    "from sklearn import tree\n",
    "from sklearn import metrics\n",
    "from sklearn import tree,svm\n",
    "\n"
   ]
  },
  {
   "cell_type": "code",
   "execution_count": 4,
   "id": "28b18fa9",
   "metadata": {},
   "outputs": [],
   "source": [
    "#import csv file, get dataframe dimension"
   ]
  },
  {
   "cell_type": "code",
   "execution_count": 1,
   "id": "0230e9dd",
   "metadata": {},
   "outputs": [
    {
     "name": "stdout",
     "output_type": "stream",
     "text": [
      "Package                       Version             \r\n",
      "----------------------------- --------------------\r\n",
      "absl-py                       0.13.0              \r\n",
      "aiodns                        3.0.0               \r\n",
      "aiohttp                       3.7.4.post0         \r\n",
      "alabaster                     0.7.12              \r\n",
      "anaconda                      0.0.1.1             \r\n",
      "appdirs                       1.4.4               \r\n",
      "apturl                        0.5.2               \r\n",
      "argon2-cffi                   20.1.0              \r\n",
      "arrow                         1.1.1               \r\n",
      "astroid                       2.6.2               \r\n",
      "astunparse                    1.6.3               \r\n",
      "async-generator               1.10                \r\n",
      "async-timeout                 3.0.1               \r\n",
      "atomicwrites                  1.4.0               \r\n",
      "attrs                         21.2.0              \r\n",
      "autopep8                      1.5.7               \r\n",
      "Babel                         2.9.1               \r\n",
      "backcall                      0.2.0               \r\n",
      "bcrypt                        3.1.7               \r\n",
      "binaryornot                   0.4.4               \r\n",
      "black                         21.6b0              \r\n",
      "bleach                        3.3.0               \r\n",
      "blinker                       1.4                 \r\n",
      "Brlapi                        0.7.0               \r\n",
      "cached-property               1.5.1               \r\n",
      "cachetools                    4.2.2               \r\n",
      "ccxt                          1.56.41             \r\n",
      "certifi                       2019.11.28          \r\n",
      "cffi                          1.14.6              \r\n",
      "chardet                       3.0.4               \r\n",
      "clang                         5.0                 \r\n",
      "Click                         7.0                 \r\n",
      "cloudpickle                   1.6.0               \r\n",
      "colorama                      0.4.3               \r\n",
      "command-not-found             0.3                 \r\n",
      "cookiecutter                  1.7.3               \r\n",
      "cryptography                  2.8                 \r\n",
      "cupshelpers                   1.0                 \r\n",
      "cycler                        0.10.0              \r\n",
      "dbus-python                   1.2.16              \r\n",
      "debugpy                       1.3.0               \r\n",
      "decorator                     5.0.9               \r\n",
      "defer                         1.0.6               \r\n",
      "defusedxml                    0.7.1               \r\n",
      "diff-match-patch              20200713            \r\n",
      "distro                        1.4.0               \r\n",
      "distro-info                   0.23ubuntu1         \r\n",
      "docker                        5.0.0               \r\n",
      "docker-compose                1.25.0              \r\n",
      "dockerpty                     0.4.1               \r\n",
      "docopt                        0.6.2               \r\n",
      "docutils                      0.17.1              \r\n",
      "duplicity                     0.8.12.0            \r\n",
      "entrypoints                   0.3                 \r\n",
      "fasteners                     0.14.1              \r\n",
      "flake8                        3.9.2               \r\n",
      "flatbuffers                   1.12                \r\n",
      "future                        0.18.2              \r\n",
      "gast                          0.4.0               \r\n",
      "google-auth                   1.33.1              \r\n",
      "google-auth-oauthlib          0.4.4               \r\n",
      "google-pasta                  0.2.0               \r\n",
      "graphviz                      0.17                \r\n",
      "grpcio                        1.39.0              \r\n",
      "h5py                          3.1.0               \r\n",
      "httplib2                      0.14.0              \r\n",
      "idna                          2.8                 \r\n",
      "imagesize                     1.2.0               \r\n",
      "importlib-metadata            1.5.0               \r\n",
      "inflection                    0.5.1               \r\n",
      "intervaltree                  3.1.0               \r\n",
      "ipykernel                     6.0.1               \r\n",
      "ipython                       7.25.0              \r\n",
      "ipython-genutils              0.2.0               \r\n",
      "ipywidgets                    7.6.3               \r\n",
      "isort                         5.9.2               \r\n",
      "jedi                          0.17.2              \r\n",
      "Jinja2                        3.0.1               \r\n",
      "jinja2-time                   0.2.0               \r\n",
      "joblib                        1.0.1               \r\n",
      "jsonschema                    3.2.0               \r\n",
      "jupyter                       1.0.0               \r\n",
      "jupyter-client                6.1.12              \r\n",
      "jupyter-console               6.4.0               \r\n",
      "jupyter-core                  4.7.1               \r\n",
      "jupyterlab-pygments           0.1.2               \r\n",
      "jupyterlab-widgets            1.0.0               \r\n",
      "keras                         2.6.0               \r\n",
      "keras-nightly                 2.5.0.dev2021032900 \r\n",
      "Keras-Preprocessing           1.1.2               \r\n",
      "keyring                       18.0.1              \r\n",
      "kiwisolver                    1.0.1               \r\n",
      "language-selector             0.1                 \r\n",
      "launchpadlib                  1.10.13             \r\n",
      "lazr.restfulclient            0.14.2              \r\n",
      "lazr.uri                      1.0.3               \r\n",
      "lazy-object-proxy             1.6.0               \r\n",
      "lockfile                      0.12.2              \r\n",
      "louis                         3.12.0              \r\n",
      "macaroonbakery                1.3.1               \r\n",
      "Mako                          1.1.0               \r\n",
      "Markdown                      3.3.4               \r\n",
      "MarkupSafe                    2.0.1               \r\n",
      "matplotlib                    3.4.3               \r\n",
      "matplotlib-inline             0.1.2               \r\n",
      "mccabe                        0.6.1               \r\n",
      "mistune                       0.8.4               \r\n",
      "monotonic                     1.5                 \r\n",
      "more-itertools                4.2.0               \r\n",
      "mpmath                        1.2.1               \r\n",
      "multidict                     5.1.0               \r\n",
      "mypy-extensions               0.4.3               \r\n",
      "nbclient                      0.5.3               \r\n",
      "nbconvert                     6.1.0               \r\n",
      "nbformat                      5.1.3               \r\n",
      "nest-asyncio                  1.5.1               \r\n",
      "netifaces                     0.10.4              \r\n",
      "notebook                      6.4.3               \r\n",
      "numpy                         1.19.5              \r\n",
      "numpy-stl                     2.16.0              \r\n",
      "numpydoc                      1.1.0               \r\n",
      "oauthlib                      3.1.0               \r\n",
      "olefile                       0.46                \r\n",
      "opt-einsum                    3.3.0               \r\n",
      "packaging                     21.0                \r\n",
      "pandas                        1.3.1               \r\n",
      "pandocfilters                 1.4.3               \r\n",
      "paramiko                      2.6.0               \r\n",
      "parso                         0.7.0               \r\n",
      "pathspec                      0.8.1               \r\n",
      "pexpect                       4.6.0               \r\n",
      "pickleshare                   0.7.5               \r\n",
      "Pillow                        7.0.0               \r\n",
      "pip                           20.0.2              \r\n",
      "Pivy                          0.6.5               \r\n",
      "pluggy                        0.13.1              \r\n",
      "poyo                          0.5.0               \r\n",
      "prometheus-client             0.11.0              \r\n",
      "prompt-toolkit                3.0.19              \r\n",
      "protobuf                      3.17.3              \r\n",
      "psutil                        5.8.0               \r\n",
      "psycopg2                      2.9.1               \r\n",
      "psycopg2-binary               2.9.1               \r\n",
      "ptyprocess                    0.7.0               \r\n",
      "pyasn1                        0.4.8               \r\n",
      "pyasn1-modules                0.2.8               \r\n",
      "pycairo                       1.16.2              \r\n",
      "pycares                       4.0.0               \r\n",
      "pycodestyle                   2.6.0               \r\n",
      "pycparser                     2.20                \r\n",
      "pycups                        1.9.73              \r\n",
      "pydocstyle                    6.1.1               \r\n",
      "pydotplus                     2.0.2               \r\n",
      "pyflakes                      2.2.0               \r\n",
      "Pygments                      2.9.0               \r\n",
      "PyGObject                     3.36.0              \r\n",
      "PyJWT                         1.7.1               \r\n",
      "pylint                        2.9.3               \r\n",
      "pyls-black                    0.4.7               \r\n",
      "pyls-spyder                   0.3.2               \r\n",
      "pymacaroons                   0.13.0              \r\n",
      "PyNaCl                        1.3.0               \r\n",
      "pyparsing                     2.4.6               \r\n",
      "pypng                         0.0.20              \r\n",
      "PyQRCode                      1.2.1               \r\n",
      "PyQt5                         5.12.3              \r\n",
      "PyQt5-sip                     12.9.0              \r\n",
      "PyQtWebEngine                 5.12.1              \r\n",
      "pyRFC3339                     1.1                 \r\n",
      "pyrsistent                    0.18.0              \r\n",
      "python-apt                    2.0.0+ubuntu0.20.4.5\r\n",
      "python-dateutil               2.7.3               \r\n",
      "python-debian                 0.1.36ubuntu1       \r\n",
      "python-jsonrpc-server         0.4.0               \r\n",
      "python-language-server        0.36.2              \r\n",
      "python-slugify                5.0.2               \r\n",
      "python-utils                  2.5.6               \r\n",
      "pytz                          2019.3              \r\n",
      "pyxdg                         0.26                \r\n",
      "PyYAML                        5.3.1               \r\n",
      "pyzmq                         22.1.0              \r\n",
      "QDarkStyle                    3.0.2               \r\n",
      "qstylizer                     0.2.0               \r\n",
      "QtAwesome                     1.0.3               \r\n",
      "qtconsole                     5.1.1               \r\n",
      "QtPy                          1.9.0               \r\n",
      "regex                         2021.7.6            \r\n",
      "reportlab                     3.5.34              \r\n",
      "requests                      2.25.1              \r\n",
      "requests-oauthlib             1.3.0               \r\n",
      "requests-unixsocket           0.2.0               \r\n",
      "rope                          0.19.0              \r\n",
      "rsa                           4.7.2               \r\n",
      "Rtree                         0.9.7               \r\n",
      "scikit-learn                  0.24.2              \r\n",
      "scipy                         1.7.0               \r\n",
      "screen-resolution-extra       0.0.0               \r\n",
      "seaborn                       0.11.2              \r\n",
      "SecretStorage                 2.3.1               \r\n",
      "Send2Trash                    1.8.0               \r\n",
      "setuptools                    45.2.0              \r\n",
      "simplejson                    3.16.0              \r\n",
      "sip                           4.19.21             \r\n",
      "six                           1.15.0              \r\n",
      "sklearn                       0.0                 \r\n",
      "snowballstemmer               2.1.0               \r\n",
      "sortedcontainers              2.4.0               \r\n",
      "Sphinx                        4.0.3               \r\n",
      "sphinxcontrib-applehelp       1.0.2               \r\n",
      "sphinxcontrib-devhelp         1.0.2               \r\n",
      "sphinxcontrib-htmlhelp        2.0.0               \r\n",
      "sphinxcontrib-jsmath          1.0.1               \r\n",
      "sphinxcontrib-qthelp          1.0.3               \r\n",
      "sphinxcontrib-serializinghtml 1.1.5               \r\n",
      "spyder                        5.0.5               \r\n",
      "spyder-kernels                2.0.5               \r\n",
      "sympy                         1.8                 \r\n",
      "systemd-python                234                 \r\n",
      "tensorboard                   2.6.0               \r\n",
      "tensorboard-data-server       0.6.1               \r\n",
      "tensorboard-plugin-wit        1.8.0               \r\n",
      "tensorflow                    2.6.0               \r\n",
      "tensorflow-estimator          2.6.0               \r\n",
      "termcolor                     1.1.0               \r\n",
      "terminado                     0.11.1              \r\n",
      "testpath                      0.5.0               \r\n",
      "text-unidecode                1.3                 \r\n",
      "textdistance                  4.2.1               \r\n",
      "texttable                     1.6.2               \r\n",
      "Theano                        1.0.5               \r\n",
      "threadpoolctl                 2.2.0               \r\n",
      "three-merge                   0.1.1               \r\n",
      "tinycss2                      1.1.0               \r\n",
      "tk                            0.1.0               \r\n",
      "toml                          0.10.2              \r\n",
      "tornado                       6.1                 \r\n",
      "traitlets                     5.0.5               \r\n",
      "typing-extensions             3.7.4.3             \r\n",
      "ubuntu-advantage-tools        27.0                \r\n",
      "ubuntu-drivers-common         0.0.0               \r\n",
      "ufw                           0.36                \r\n",
      "ujson                         4.0.2               \r\n",
      "unattended-upgrades           0.1                 \r\n",
      "urllib3                       1.25.8              \r\n",
      "usb-creator                   0.3.7               \r\n",
      "vboxapi                       1.0                 \r\n",
      "wadllib                       1.3.3               \r\n",
      "watchdog                      2.1.3               \r\n",
      "wcwidth                       0.2.5               \r\n",
      "webencodings                  0.5.1               \r\n",
      "websocket-client              1.1.0               \r\n",
      "Werkzeug                      2.0.1               \r\n",
      "wheel                         0.36.2              \r\n",
      "widgetsnbextension            3.5.1               \r\n",
      "wrapt                         1.12.1              \r\n",
      "wurlitzer                     2.1.0               \r\n",
      "xkit                          0.0.0               \r\n",
      "yapf                          0.31.0              \r\n",
      "yarl                          1.6.3               \r\n",
      "zipp                          1.0.0               \r\n"
     ]
    }
   ],
   "source": [
    "!pip install pydotplus"
   ]
  },
  {
   "cell_type": "code",
   "execution_count": 5,
   "id": "0865be9e",
   "metadata": {},
   "outputs": [
    {
     "data": {
      "text/plain": [
       "(346, 10)"
      ]
     },
     "execution_count": 5,
     "metadata": {},
     "output_type": "execute_result"
    }
   ],
   "source": [
    "df =pd.read_csv('/home/nikki/ia/datasets/loan_train.csv')\n",
    "df.head()\n",
    "df.shape\n"
   ]
  },
  {
   "cell_type": "code",
   "execution_count": 6,
   "id": "1f0b1288",
   "metadata": {},
   "outputs": [],
   "source": [
    "#convert due_date & effective date to datetime"
   ]
  },
  {
   "cell_type": "code",
   "execution_count": 7,
   "id": "2962b569",
   "metadata": {},
   "outputs": [
    {
     "data": {
      "text/html": [
       "<div>\n",
       "<style scoped>\n",
       "    .dataframe tbody tr th:only-of-type {\n",
       "        vertical-align: middle;\n",
       "    }\n",
       "\n",
       "    .dataframe tbody tr th {\n",
       "        vertical-align: top;\n",
       "    }\n",
       "\n",
       "    .dataframe thead th {\n",
       "        text-align: right;\n",
       "    }\n",
       "</style>\n",
       "<table border=\"1\" class=\"dataframe\">\n",
       "  <thead>\n",
       "    <tr style=\"text-align: right;\">\n",
       "      <th></th>\n",
       "      <th>Unnamed: 0</th>\n",
       "      <th>Unnamed: 0.1</th>\n",
       "      <th>loan_status</th>\n",
       "      <th>Principal</th>\n",
       "      <th>terms</th>\n",
       "      <th>effective_date</th>\n",
       "      <th>due_date</th>\n",
       "      <th>age</th>\n",
       "      <th>education</th>\n",
       "      <th>Gender</th>\n",
       "    </tr>\n",
       "  </thead>\n",
       "  <tbody>\n",
       "    <tr>\n",
       "      <th>0</th>\n",
       "      <td>0</td>\n",
       "      <td>0</td>\n",
       "      <td>PAIDOFF</td>\n",
       "      <td>1000</td>\n",
       "      <td>30</td>\n",
       "      <td>2016-09-08</td>\n",
       "      <td>736244</td>\n",
       "      <td>45</td>\n",
       "      <td>High School or Below</td>\n",
       "      <td>male</td>\n",
       "    </tr>\n",
       "    <tr>\n",
       "      <th>1</th>\n",
       "      <td>2</td>\n",
       "      <td>2</td>\n",
       "      <td>PAIDOFF</td>\n",
       "      <td>1000</td>\n",
       "      <td>30</td>\n",
       "      <td>2016-09-08</td>\n",
       "      <td>736244</td>\n",
       "      <td>33</td>\n",
       "      <td>Bechalor</td>\n",
       "      <td>female</td>\n",
       "    </tr>\n",
       "    <tr>\n",
       "      <th>2</th>\n",
       "      <td>3</td>\n",
       "      <td>3</td>\n",
       "      <td>PAIDOFF</td>\n",
       "      <td>1000</td>\n",
       "      <td>15</td>\n",
       "      <td>2016-09-08</td>\n",
       "      <td>736229</td>\n",
       "      <td>27</td>\n",
       "      <td>college</td>\n",
       "      <td>male</td>\n",
       "    </tr>\n",
       "    <tr>\n",
       "      <th>3</th>\n",
       "      <td>4</td>\n",
       "      <td>4</td>\n",
       "      <td>PAIDOFF</td>\n",
       "      <td>1000</td>\n",
       "      <td>30</td>\n",
       "      <td>2016-09-09</td>\n",
       "      <td>736245</td>\n",
       "      <td>28</td>\n",
       "      <td>college</td>\n",
       "      <td>female</td>\n",
       "    </tr>\n",
       "    <tr>\n",
       "      <th>4</th>\n",
       "      <td>6</td>\n",
       "      <td>6</td>\n",
       "      <td>PAIDOFF</td>\n",
       "      <td>1000</td>\n",
       "      <td>30</td>\n",
       "      <td>2016-09-09</td>\n",
       "      <td>736245</td>\n",
       "      <td>29</td>\n",
       "      <td>college</td>\n",
       "      <td>male</td>\n",
       "    </tr>\n",
       "  </tbody>\n",
       "</table>\n",
       "</div>"
      ],
      "text/plain": [
       "   Unnamed: 0  Unnamed: 0.1 loan_status  Principal  terms effective_date  \\\n",
       "0           0             0     PAIDOFF       1000     30     2016-09-08   \n",
       "1           2             2     PAIDOFF       1000     30     2016-09-08   \n",
       "2           3             3     PAIDOFF       1000     15     2016-09-08   \n",
       "3           4             4     PAIDOFF       1000     30     2016-09-09   \n",
       "4           6             6     PAIDOFF       1000     30     2016-09-09   \n",
       "\n",
       "   due_date  age             education  Gender  \n",
       "0    736244   45  High School or Below    male  \n",
       "1    736244   33              Bechalor  female  \n",
       "2    736229   27               college    male  \n",
       "3    736245   28               college  female  \n",
       "4    736245   29               college    male  "
      ]
     },
     "execution_count": 7,
     "metadata": {},
     "output_type": "execute_result"
    }
   ],
   "source": [
    "df['due_date']=pd.to_datetime(df['due_date'])\n",
    "df['effective_date']=pd.to_datetime(df['effective_date'])\n",
    "df['due_date']=df['due_date'].apply(lambda x: x.toordinal())\n",
    "df['effective_date']=pd.to_datetime(df['effective_date'])\n",
    "df.head()\n"
   ]
  },
  {
   "cell_type": "code",
   "execution_count": 8,
   "id": "1cfb71c2",
   "metadata": {},
   "outputs": [],
   "source": [
    "#count and sum loan status value"
   ]
  },
  {
   "cell_type": "code",
   "execution_count": 9,
   "id": "d4fa6c99",
   "metadata": {},
   "outputs": [
    {
     "data": {
      "text/plain": [
       "PAIDOFF       260\n",
       "COLLECTION     86\n",
       "Name: loan_status, dtype: int64"
      ]
     },
     "execution_count": 9,
     "metadata": {},
     "output_type": "execute_result"
    }
   ],
   "source": [
    "df['loan_status'].value_counts()\n"
   ]
  },
  {
   "cell_type": "code",
   "execution_count": 10,
   "id": "4eefbd8b",
   "metadata": {},
   "outputs": [],
   "source": [
    "#remplacer male, female par 0 1 =>"
   ]
  },
  {
   "cell_type": "code",
   "execution_count": 11,
   "id": "2b131b5e",
   "metadata": {},
   "outputs": [],
   "source": [
    "df['Gender'].replace(to_replace=['male','female'],value=[0,1],inplace=True)"
   ]
  },
  {
   "cell_type": "code",
   "execution_count": null,
   "id": "6e740adc",
   "metadata": {},
   "outputs": [],
   "source": []
  },
  {
   "cell_type": "code",
   "execution_count": 12,
   "id": "60385da3",
   "metadata": {},
   "outputs": [
    {
     "data": {
      "image/png": "[encoded data removed]",
      "text/plain": [
       "<Figure size 432x216 with 2 Axes>"
      ]
     },
     "metadata": {
      "needs_background": "light"
     },
     "output_type": "display_data"
    }
   ],
   "source": [
    "import seaborn as sns\n",
    "bins = np.linspace(df.Principal.min(),df.Principal.max(),10)\n",
    "g=sns.FacetGrid(df,col=\"Gender\",hue=\"loan_status\", palette=\"Set1\",col_wrap=2)\n",
    "g.map(plt.hist, 'Principal',bins=bins,ec=\"k\")\n",
    "g.axes[-1].legend()\n",
    "plt.show()\n"
   ]
  },
  {
   "cell_type": "code",
   "execution_count": 13,
   "id": "5c56c681",
   "metadata": {},
   "outputs": [
    {
     "data": {
      "image/png": "[encoded data removed]",
      "text/plain": [
       "<Figure size 432x216 with 2 Axes>"
      ]
     },
     "metadata": {
      "needs_background": "light"
     },
     "output_type": "display_data"
    }
   ],
   "source": [
    "df['dayofweek']=df['effective_date'].dt.dayofweek\n",
    "bins=np.linspace(df.age.min(),df.age.max(),10)\n",
    "g=sns.FacetGrid(df,col=\"Gender\",hue=\"loan_status\",palette=\"Set1\",col_wrap=2)\n",
    "g.map(plt.hist,'age',bins=bins,ec=\"k\")\n",
    "g.axes[-1].legend()\n",
    "plt.show()"
   ]
  },
  {
   "cell_type": "code",
   "execution_count": 14,
   "id": "da80a09c",
   "metadata": {},
   "outputs": [
    {
     "data": {
      "text/plain": [
       "<bound method NDFrame.head of      Unnamed: 0  Unnamed: 0.1 loan_status  Principal  terms effective_date  \\\n",
       "0             0             0     PAIDOFF       1000     30     2016-09-08   \n",
       "1             2             2     PAIDOFF       1000     30     2016-09-08   \n",
       "2             3             3     PAIDOFF       1000     15     2016-09-08   \n",
       "3             4             4     PAIDOFF       1000     30     2016-09-09   \n",
       "4             6             6     PAIDOFF       1000     30     2016-09-09   \n",
       "..          ...           ...         ...        ...    ...            ...   \n",
       "341         394           394  COLLECTION        800     15     2016-09-11   \n",
       "342         395           395  COLLECTION       1000     30     2016-09-11   \n",
       "343         397           397  COLLECTION        800     15     2016-09-12   \n",
       "344         398           398  COLLECTION       1000     30     2016-09-12   \n",
       "345         399           399  COLLECTION       1000     30     2016-09-12   \n",
       "\n",
       "     due_date  age             education  Gender  dayofweek  weekend  \n",
       "0      736244   45  High School or Below       0          3        0  \n",
       "1      736244   33              Bechalor       1          3        0  \n",
       "2      736229   27               college       0          3        0  \n",
       "3      736245   28               college       1          4        1  \n",
       "4      736245   29               college       0          4        1  \n",
       "..        ...  ...                   ...     ...        ...      ...  \n",
       "341    736232   32  High School or Below       0          6        1  \n",
       "342    736247   25  High School or Below       0          6        1  \n",
       "343    736233   39               college       0          0        0  \n",
       "344    736278   28               college       0          0        0  \n",
       "345    736248   26               college       0          0        0  \n",
       "\n",
       "[346 rows x 12 columns]>"
      ]
     },
     "execution_count": 14,
     "metadata": {},
     "output_type": "execute_result"
    }
   ],
   "source": [
    "df['weekend']=df['dayofweek'].apply(lambda x: 1 if (x>3) else 0)\n",
    "df.head"
   ]
  },
  {
   "cell_type": "code",
   "execution_count": 15,
   "id": "c7820cd0",
   "metadata": {},
   "outputs": [
    {
     "data": {
      "text/plain": [
       "Gender  loan_status\n",
       "0       PAIDOFF        0.731293\n",
       "        COLLECTION     0.268707\n",
       "1       PAIDOFF        0.865385\n",
       "        COLLECTION     0.134615\n",
       "Name: loan_status, dtype: float64"
      ]
     },
     "execution_count": 15,
     "metadata": {},
     "output_type": "execute_result"
    }
   ],
   "source": [
    "df.groupby(['Gender'])['loan_status'].value_counts(normalize=True)\n"
   ]
  },
  {
   "cell_type": "code",
   "execution_count": 16,
   "id": "cfba706c",
   "metadata": {
    "scrolled": true
   },
   "outputs": [
    {
     "data": {
      "text/html": [
       "<div>\n",
       "<style scoped>\n",
       "    .dataframe tbody tr th:only-of-type {\n",
       "        vertical-align: middle;\n",
       "    }\n",
       "\n",
       "    .dataframe tbody tr th {\n",
       "        vertical-align: top;\n",
       "    }\n",
       "\n",
       "    .dataframe thead th {\n",
       "        text-align: right;\n",
       "    }\n",
       "</style>\n",
       "<table border=\"1\" class=\"dataframe\">\n",
       "  <thead>\n",
       "    <tr style=\"text-align: right;\">\n",
       "      <th></th>\n",
       "      <th>Principal</th>\n",
       "      <th>terms</th>\n",
       "      <th>age</th>\n",
       "      <th>Gender</th>\n",
       "      <th>due_date</th>\n",
       "      <th>Bechalor</th>\n",
       "      <th>High School or Below</th>\n",
       "      <th>college</th>\n",
       "    </tr>\n",
       "  </thead>\n",
       "  <tbody>\n",
       "    <tr>\n",
       "      <th>0</th>\n",
       "      <td>1000</td>\n",
       "      <td>30</td>\n",
       "      <td>45</td>\n",
       "      <td>0</td>\n",
       "      <td>736244</td>\n",
       "      <td>0</td>\n",
       "      <td>1</td>\n",
       "      <td>0</td>\n",
       "    </tr>\n",
       "    <tr>\n",
       "      <th>1</th>\n",
       "      <td>1000</td>\n",
       "      <td>30</td>\n",
       "      <td>33</td>\n",
       "      <td>1</td>\n",
       "      <td>736244</td>\n",
       "      <td>1</td>\n",
       "      <td>0</td>\n",
       "      <td>0</td>\n",
       "    </tr>\n",
       "    <tr>\n",
       "      <th>2</th>\n",
       "      <td>1000</td>\n",
       "      <td>15</td>\n",
       "      <td>27</td>\n",
       "      <td>0</td>\n",
       "      <td>736229</td>\n",
       "      <td>0</td>\n",
       "      <td>0</td>\n",
       "      <td>1</td>\n",
       "    </tr>\n",
       "    <tr>\n",
       "      <th>3</th>\n",
       "      <td>1000</td>\n",
       "      <td>30</td>\n",
       "      <td>28</td>\n",
       "      <td>1</td>\n",
       "      <td>736245</td>\n",
       "      <td>0</td>\n",
       "      <td>0</td>\n",
       "      <td>1</td>\n",
       "    </tr>\n",
       "    <tr>\n",
       "      <th>4</th>\n",
       "      <td>1000</td>\n",
       "      <td>30</td>\n",
       "      <td>29</td>\n",
       "      <td>0</td>\n",
       "      <td>736245</td>\n",
       "      <td>0</td>\n",
       "      <td>0</td>\n",
       "      <td>1</td>\n",
       "    </tr>\n",
       "  </tbody>\n",
       "</table>\n",
       "</div>"
      ],
      "text/plain": [
       "   Principal  terms  age  Gender  due_date  Bechalor  High School or Below  \\\n",
       "0       1000     30   45       0    736244         0                     1   \n",
       "1       1000     30   33       1    736244         1                     0   \n",
       "2       1000     15   27       0    736229         0                     0   \n",
       "3       1000     30   28       1    736245         0                     0   \n",
       "4       1000     30   29       0    736245         0                     0   \n",
       "\n",
       "   college  \n",
       "0        0  \n",
       "1        0  \n",
       "2        1  \n",
       "3        1  \n",
       "4        1  "
      ]
     },
     "execution_count": 16,
     "metadata": {},
     "output_type": "execute_result"
    }
   ],
   "source": [
    "Feature= df[['Principal','terms','age','Gender','due_date']]\n",
    "\n",
    "Feature=pd.concat([Feature,pd.get_dummies(df['education'])],axis=1)\n",
    "Feature.drop(['Master or Above'],axis=1,inplace=True)\n",
    "Feature.head()\n"
   ]
  },
  {
   "cell_type": "code",
   "execution_count": 17,
   "id": "61ddbe02",
   "metadata": {
    "scrolled": true
   },
   "outputs": [
    {
     "data": {
      "text/html": [
       "<div>\n",
       "<style scoped>\n",
       "    .dataframe tbody tr th:only-of-type {\n",
       "        vertical-align: middle;\n",
       "    }\n",
       "\n",
       "    .dataframe tbody tr th {\n",
       "        vertical-align: top;\n",
       "    }\n",
       "\n",
       "    .dataframe thead th {\n",
       "        text-align: right;\n",
       "    }\n",
       "</style>\n",
       "<table border=\"1\" class=\"dataframe\">\n",
       "  <thead>\n",
       "    <tr style=\"text-align: right;\">\n",
       "      <th></th>\n",
       "      <th>Principal</th>\n",
       "      <th>terms</th>\n",
       "      <th>age</th>\n",
       "      <th>Gender</th>\n",
       "      <th>due_date</th>\n",
       "      <th>Bechalor</th>\n",
       "      <th>High School or Below</th>\n",
       "      <th>college</th>\n",
       "    </tr>\n",
       "  </thead>\n",
       "  <tbody>\n",
       "    <tr>\n",
       "      <th>0</th>\n",
       "      <td>1000</td>\n",
       "      <td>30</td>\n",
       "      <td>45</td>\n",
       "      <td>0</td>\n",
       "      <td>736244</td>\n",
       "      <td>0</td>\n",
       "      <td>1</td>\n",
       "      <td>0</td>\n",
       "    </tr>\n",
       "    <tr>\n",
       "      <th>1</th>\n",
       "      <td>1000</td>\n",
       "      <td>30</td>\n",
       "      <td>33</td>\n",
       "      <td>1</td>\n",
       "      <td>736244</td>\n",
       "      <td>1</td>\n",
       "      <td>0</td>\n",
       "      <td>0</td>\n",
       "    </tr>\n",
       "    <tr>\n",
       "      <th>2</th>\n",
       "      <td>1000</td>\n",
       "      <td>15</td>\n",
       "      <td>27</td>\n",
       "      <td>0</td>\n",
       "      <td>736229</td>\n",
       "      <td>0</td>\n",
       "      <td>0</td>\n",
       "      <td>1</td>\n",
       "    </tr>\n",
       "    <tr>\n",
       "      <th>3</th>\n",
       "      <td>1000</td>\n",
       "      <td>30</td>\n",
       "      <td>28</td>\n",
       "      <td>1</td>\n",
       "      <td>736245</td>\n",
       "      <td>0</td>\n",
       "      <td>0</td>\n",
       "      <td>1</td>\n",
       "    </tr>\n",
       "    <tr>\n",
       "      <th>4</th>\n",
       "      <td>1000</td>\n",
       "      <td>30</td>\n",
       "      <td>29</td>\n",
       "      <td>0</td>\n",
       "      <td>736245</td>\n",
       "      <td>0</td>\n",
       "      <td>0</td>\n",
       "      <td>1</td>\n",
       "    </tr>\n",
       "  </tbody>\n",
       "</table>\n",
       "</div>"
      ],
      "text/plain": [
       "   Principal  terms  age  Gender  due_date  Bechalor  High School or Below  \\\n",
       "0       1000     30   45       0    736244         0                     1   \n",
       "1       1000     30   33       1    736244         1                     0   \n",
       "2       1000     15   27       0    736229         0                     0   \n",
       "3       1000     30   28       1    736245         0                     0   \n",
       "4       1000     30   29       0    736245         0                     0   \n",
       "\n",
       "   college  \n",
       "0        0  \n",
       "1        0  \n",
       "2        1  \n",
       "3        1  \n",
       "4        1  "
      ]
     },
     "execution_count": 17,
     "metadata": {},
     "output_type": "execute_result"
    }
   ],
   "source": [
    "X=Feature\n",
    "X[0:5]"
   ]
  },
  {
   "cell_type": "code",
   "execution_count": 18,
   "id": "6eced265",
   "metadata": {},
   "outputs": [
    {
     "data": {
      "text/plain": [
       "array(['PAIDOFF', 'PAIDOFF', 'PAIDOFF', 'PAIDOFF', 'PAIDOFF'],\n",
       "      dtype=object)"
      ]
     },
     "execution_count": 18,
     "metadata": {},
     "output_type": "execute_result"
    }
   ],
   "source": [
    "y=df['loan_status'].values\n",
    "y[0:5]"
   ]
  },
  {
   "cell_type": "code",
   "execution_count": 19,
   "id": "50f652c3",
   "metadata": {},
   "outputs": [
    {
     "data": {
      "text/plain": [
       "array([[ 0.51578458,  0.92071769,  2.33152555, -0.42056004,  0.20346575,\n",
       "        -0.38170062,  1.13639374, -0.86968108],\n",
       "       [ 0.51578458,  0.92071769,  0.34170148,  2.37778177,  0.20346575,\n",
       "         2.61985426, -0.87997669, -0.86968108],\n",
       "       [ 0.51578458, -0.95911111, -0.65321055, -0.42056004, -1.20639708,\n",
       "        -0.38170062, -0.87997669,  1.14984679],\n",
       "       [ 0.51578458,  0.92071769, -0.48739188,  2.37778177,  0.29745661,\n",
       "        -0.38170062, -0.87997669,  1.14984679],\n",
       "       [ 0.51578458,  0.92071769, -0.3215732 , -0.42056004,  0.29745661,\n",
       "        -0.38170062, -0.87997669,  1.14984679]])"
      ]
     },
     "execution_count": 19,
     "metadata": {},
     "output_type": "execute_result"
    }
   ],
   "source": [
    "#normalize Data\n",
    "#Data Standardization gives data zero mean and unit variance\n",
    "X=preprocessing.StandardScaler().fit(X).transform(X)\n",
    "X[0:5]"
   ]
  },
  {
   "cell_type": "code",
   "execution_count": 20,
   "id": "d78c8ab2",
   "metadata": {},
   "outputs": [],
   "source": [
    "#split dataset"
   ]
  },
  {
   "cell_type": "code",
   "execution_count": 21,
   "id": "bef62906",
   "metadata": {},
   "outputs": [
    {
     "name": "stdout",
     "output_type": "stream",
     "text": [
      "Train set: (276, 8) (276,)\n",
      "Test set: (70, 8) (70,)\n"
     ]
    }
   ],
   "source": [
    "X_train, X_test, y_train, y_test = train_test_split( X, y, test_size=0.2, random_state=4)\n",
    "print ('Train set:', X_train.shape,  y_train.shape)\n",
    "print ('Test set:', X_test.shape,  y_test.shape)"
   ]
  },
  {
   "cell_type": "code",
   "execution_count": 22,
   "id": "103ec180",
   "metadata": {},
   "outputs": [
    {
     "name": "stdout",
     "output_type": "stream",
     "text": [
      "['PAIDOFF' 'PAIDOFF' 'PAIDOFF' 'COLLECTION' 'PAIDOFF' 'PAIDOFF'\n",
      " 'COLLECTION' 'COLLECTION' 'COLLECTION' 'PAIDOFF' 'PAIDOFF' 'PAIDOFF'\n",
      " 'PAIDOFF' 'PAIDOFF' 'PAIDOFF' 'PAIDOFF' 'PAIDOFF' 'PAIDOFF' 'PAIDOFF'\n",
      " 'PAIDOFF' 'PAIDOFF' 'COLLECTION' 'COLLECTION' 'PAIDOFF' 'PAIDOFF'\n",
      " 'PAIDOFF' 'PAIDOFF' 'PAIDOFF' 'PAIDOFF' 'PAIDOFF' 'PAIDOFF' 'PAIDOFF'\n",
      " 'PAIDOFF' 'PAIDOFF' 'PAIDOFF' 'PAIDOFF' 'PAIDOFF' 'PAIDOFF' 'COLLECTION'\n",
      " 'PAIDOFF' 'PAIDOFF' 'COLLECTION' 'PAIDOFF' 'PAIDOFF' 'PAIDOFF'\n",
      " 'COLLECTION' 'PAIDOFF' 'PAIDOFF' 'PAIDOFF' 'PAIDOFF' 'PAIDOFF' 'PAIDOFF'\n",
      " 'PAIDOFF' 'COLLECTION' 'PAIDOFF' 'COLLECTION' 'COLLECTION' 'PAIDOFF'\n",
      " 'PAIDOFF' 'PAIDOFF' 'PAIDOFF' 'PAIDOFF' 'PAIDOFF' 'PAIDOFF' 'PAIDOFF'\n",
      " 'COLLECTION' 'PAIDOFF' 'PAIDOFF' 'PAIDOFF' 'PAIDOFF']\n"
     ]
    },
    {
     "data": {
      "text/plain": [
       "array(['PAIDOFF', 'PAIDOFF', 'PAIDOFF', 'COLLECTION', 'PAIDOFF'],\n",
       "      dtype=object)"
      ]
     },
     "execution_count": 22,
     "metadata": {},
     "output_type": "execute_result"
    }
   ],
   "source": [
    "#KNN split data beween train and test\n",
    "k=4\n",
    "neighbour = KNeighborsClassifier(n_neighbors = k).fit(X_train,y_train)\n",
    "#predict\n",
    "yhat = neighbour.predict(X_test)\n",
    "\n",
    "print(yhat)\n",
    "#colonnes utilisées pour prédire y\n",
    "yhat[0:5]"
   ]
  },
  {
   "cell_type": "code",
   "execution_count": 23,
   "id": "357bc4c5",
   "metadata": {},
   "outputs": [
    {
     "name": "stdout",
     "output_type": "stream",
     "text": [
      "Train set Accuracy:  0.7753623188405797\n",
      "Test set Accuracy:  0.7142857142857143\n"
     ]
    }
   ],
   "source": [
    "#these function are equal to jaccard_score\n",
    "print(\"Train set Accuracy: \", metrics.accuracy_score(y_train, neighbour.predict(X_train)))\n",
    "print(\"Test set Accuracy: \", metrics.accuracy_score(y_test, yhat))"
   ]
  },
  {
   "cell_type": "code",
   "execution_count": 24,
   "id": "0adbded5",
   "metadata": {},
   "outputs": [
    {
     "data": {
      "text/plain": [
       "array([0.64285714, 0.55714286, 0.75714286, 0.71428571, 0.77142857,\n",
       "       0.7       , 0.74285714, 0.7       , 0.75714286])"
      ]
     },
     "execution_count": 24,
     "metadata": {},
     "output_type": "execute_result"
    }
   ],
   "source": [
    "#train model and predict for various values of k then plot it \n",
    "Ks = 10\n",
    "mean_acc = np.zeros((Ks-1))\n",
    "std_acc = np.zeros((Ks-1))\n",
    "\n",
    "for n in range(1,Ks):\n",
    "    \n",
    "    #Train Model and Predict  \n",
    "    neigh = KNeighborsClassifier(n_neighbors = n).fit(X_train,y_train)\n",
    "    yhat=neigh.predict(X_test)\n",
    "    mean_acc[n-1] = metrics.accuracy_score(y_test, yhat)\n",
    "\n",
    "    \n",
    "    std_acc[n-1]=np.std(yhat==y_test)/np.sqrt(yhat.shape[0])\n",
    "\n",
    "mean_acc\n",
    "\n"
   ]
  },
  {
   "cell_type": "code",
   "execution_count": 25,
   "id": "2ae636be",
   "metadata": {},
   "outputs": [],
   "source": [
    "#plot the model accuracy for a different number of vzalue of k\n"
   ]
  },
  {
   "cell_type": "code",
   "execution_count": 26,
   "id": "4dd11c67",
   "metadata": {},
   "outputs": [
    {
     "data": {
      "image/png": "[encoded data removed]",
      "text/plain": [
       "<Figure size 432x288 with 1 Axes>"
      ]
     },
     "metadata": {
      "needs_background": "light"
     },
     "output_type": "display_data"
    }
   ],
   "source": [
    "plt.plot(range(1,Ks),mean_acc,'g')\n",
    "plt.fill_between(range(1,Ks),mean_acc - 1 * std_acc,mean_acc + 1 * std_acc, alpha=0.10)\n",
    "plt.fill_between(range(1,Ks),mean_acc - 3 * std_acc,mean_acc + 3 * std_acc, alpha=0.10,color=\"green\")\n",
    "plt.legend(('Accuracy ', '+/- 1xstd','+/- 3xstd'))\n",
    "plt.ylabel('Accuracy ')\n",
    "plt.xlabel('Number of Neighbors (K)')\n",
    "plt.tight_layout()\n",
    "plt.show()"
   ]
  },
  {
   "cell_type": "code",
   "execution_count": 27,
   "id": "db54acdd",
   "metadata": {},
   "outputs": [
    {
     "name": "stdout",
     "output_type": "stream",
     "text": [
      "The best accuracy was with 0.7714285714285715 with k= 5\n"
     ]
    }
   ],
   "source": [
    "print( \"The best accuracy was with\", mean_acc.max(), \"with k=\", mean_acc.argmax()+1) "
   ]
  },
  {
   "cell_type": "code",
   "execution_count": 28,
   "id": "a3a8794b",
   "metadata": {},
   "outputs": [],
   "source": [
    "from sklearn import tree,svm\n",
    "from sklearn import preprocessing\n",
    "\n",
    "#predictiveTree result and metrics\n"
   ]
  },
  {
   "cell_type": "code",
   "execution_count": 29,
   "id": "aa155ed7",
   "metadata": {
    "scrolled": false
   },
   "outputs": [
    {
     "name": "stdout",
     "output_type": "stream",
     "text": [
      "     Principal  terms effective_date  age  education  Gender\n",
      "0         1000     30     2016-09-08   45          1       0\n",
      "1         1000     30     2016-09-08   33          0       1\n",
      "2         1000     15     2016-09-08   27          3       0\n",
      "3         1000     30     2016-09-09   28          3       1\n",
      "4         1000     30     2016-09-09   29          3       0\n",
      "..         ...    ...            ...  ...        ...     ...\n",
      "341        800     15     2016-09-11   32          1       0\n",
      "342       1000     30     2016-09-11   25          1       0\n",
      "343        800     15     2016-09-12   39          3       0\n",
      "344       1000     30     2016-09-12   28          3       0\n",
      "345       1000     30     2016-09-12   26          3       0\n",
      "\n",
      "[346 rows x 6 columns]\n"
     ]
    },
    {
     "name": "stderr",
     "output_type": "stream",
     "text": [
      "/home/nikki/anaconda3/lib/python3.8/site-packages/pandas/core/indexing.py:1676: SettingWithCopyWarning: \n",
      "A value is trying to be set on a copy of a slice from a DataFrame.\n",
      "Try using .loc[row_indexer,col_indexer] = value instead\n",
      "\n",
      "See the caveats in the documentation: https://pandas.pydata.org/pandas-docs/stable/user_guide/indexing.html#returning-a-view-versus-a-copy\n",
      "  self._setitem_single_column(ilocs[0], value, pi)\n"
     ]
    }
   ],
   "source": [
    "my_X=df[['Principal','terms','effective_date','age','education','Gender']]\n",
    "#Education and Gender are categorical variables so we the need to convert them into dummy variables\n",
    "le_educ=preprocessing.LabelEncoder()\n",
    "le_educ.fit(['High School or Below','Bechalor','college','Master or Above'])\n",
    "my_X.iloc[:,4]=le_educ.transform(my_X.iloc[:,4])\n",
    "print(my_X)\n"
   ]
  },
  {
   "cell_type": "code",
   "execution_count": 30,
   "id": "40beb281",
   "metadata": {},
   "outputs": [],
   "source": [
    "from sklearn.model_selection import train_test_split\n",
    "#setting up decision tree train test split\n",
    "X_trainset, X_testset, y_trainset, y_testset = train_test_split(X, y, test_size=0.3, random_state=3)\n"
   ]
  },
  {
   "cell_type": "code",
   "execution_count": 31,
   "id": "040e59a9",
   "metadata": {},
   "outputs": [
    {
     "data": {
      "text/plain": [
       "DecisionTreeClassifier(criterion='entropy', max_depth=4)"
      ]
     },
     "execution_count": 31,
     "metadata": {},
     "output_type": "execute_result"
    }
   ],
   "source": [
    "#Modeling DecisionTreeClassifier called loanTree\n",
    "#inside classifier, cirterion=entropy => information gain of each node\n",
    "from sklearn.tree import DecisionTreeClassifier\n",
    "loanTree = DecisionTreeClassifier(criterion=\"entropy\", max_depth = 4)\n",
    "loanTree # it shows the default parameters"
   ]
  },
  {
   "cell_type": "code",
   "execution_count": 32,
   "id": "f4c2c581",
   "metadata": {},
   "outputs": [
    {
     "name": "stdout",
     "output_type": "stream",
     "text": [
      "['PAIDOFF' 'PAIDOFF' 'PAIDOFF' 'PAIDOFF' 'PAIDOFF']\n",
      "['PAIDOFF' 'PAIDOFF' 'COLLECTION' 'COLLECTION' 'PAIDOFF']\n"
     ]
    }
   ],
   "source": [
    "loanTree.fit(X_trainset,y_trainset)\n",
    "predTree=loanTree.predict(X_testset)\n",
    "print(predTree [0:5])\n",
    "print(y_testset [0:5])"
   ]
  },
  {
   "cell_type": "code",
   "execution_count": 33,
   "id": "dcd34f10",
   "metadata": {},
   "outputs": [
    {
     "name": "stdout",
     "output_type": "stream",
     "text": [
      "DecisionTrees's Accuracy:  0.7115384615384616\n"
     ]
    }
   ],
   "source": [
    "print(\"DecisionTrees's Accuracy: \", metrics.accuracy_score(y_testset, predTree))"
   ]
  },
  {
   "cell_type": "code",
   "execution_count": 34,
   "id": "994a2390",
   "metadata": {},
   "outputs": [
    {
     "ename": "ModuleNotFoundError",
     "evalue": "No module named 'pydotplus'",
     "output_type": "error",
     "traceback": [
      "\u001b[0;31m---------------------------------------------------------------------------\u001b[0m",
      "\u001b[0;31mModuleNotFoundError\u001b[0m                       Traceback (most recent call last)",
      "\u001b[0;32m<ipython-input-34-d51bb295c435>\u001b[0m in \u001b[0;36m<module>\u001b[0;34m\u001b[0m\n\u001b[1;32m      1\u001b[0m \u001b[0;31m#Visualize the Tree\u001b[0m\u001b[0;34m\u001b[0m\u001b[0;34m\u001b[0m\u001b[0;34m\u001b[0m\u001b[0m\n\u001b[1;32m      2\u001b[0m \u001b[0;32mimport\u001b[0m \u001b[0mio\u001b[0m\u001b[0;34m\u001b[0m\u001b[0;34m\u001b[0m\u001b[0m\n\u001b[0;32m----> 3\u001b[0;31m \u001b[0;32mimport\u001b[0m \u001b[0mpydotplus\u001b[0m\u001b[0;34m\u001b[0m\u001b[0;34m\u001b[0m\u001b[0m\n\u001b[0m\u001b[1;32m      4\u001b[0m \u001b[0;32mimport\u001b[0m \u001b[0mmatplotlib\u001b[0m\u001b[0;34m.\u001b[0m\u001b[0mimage\u001b[0m \u001b[0;32mas\u001b[0m \u001b[0mmpimg\u001b[0m\u001b[0;34m\u001b[0m\u001b[0;34m\u001b[0m\u001b[0m\n\u001b[1;32m      5\u001b[0m \u001b[0;32mfrom\u001b[0m \u001b[0msklearn\u001b[0m \u001b[0;32mimport\u001b[0m \u001b[0mtree\u001b[0m\u001b[0;34m\u001b[0m\u001b[0;34m\u001b[0m\u001b[0m\n",
      "\u001b[0;31mModuleNotFoundError\u001b[0m: No module named 'pydotplus'"
     ]
    }
   ],
   "source": [
    "#Visualize the Tree\n",
    "import io \n",
    "import pydotplus\n",
    "import matplotlib.image as mpimg\n",
    "from sklearn import tree\n",
    "import pandas as pd\n"
   ]
  },
  {
   "cell_type": "code",
   "execution_count": 44,
   "id": "51ccb1db",
   "metadata": {},
   "outputs": [
    {
     "ename": "ValueError",
     "evalue": "Length of feature_names, 6 does not match number of features, 8",
     "output_type": "error",
     "traceback": [
      "\u001b[0;31m---------------------------------------------------------------------------\u001b[0m",
      "\u001b[0;31mValueError\u001b[0m                                Traceback (most recent call last)",
      "\u001b[0;32m<ipython-input-44-f28d3ce25e14>\u001b[0m in \u001b[0;36m<module>\u001b[0;34m\u001b[0m\n\u001b[1;32m      6\u001b[0m \u001b[0mfilename\u001b[0m \u001b[0;34m=\u001b[0m \u001b[0;34m\"loantree.png\"\u001b[0m\u001b[0;34m\u001b[0m\u001b[0;34m\u001b[0m\u001b[0m\n\u001b[1;32m      7\u001b[0m \u001b[0mfeatureNames\u001b[0m \u001b[0;34m=\u001b[0m \u001b[0mmy_X\u001b[0m\u001b[0;34m.\u001b[0m\u001b[0mcolumns\u001b[0m\u001b[0;34m[\u001b[0m\u001b[0;36m0\u001b[0m\u001b[0;34m:\u001b[0m\u001b[0;36m8\u001b[0m\u001b[0;34m]\u001b[0m\u001b[0;34m\u001b[0m\u001b[0;34m\u001b[0m\u001b[0m\n\u001b[0;32m----> 8\u001b[0;31m \u001b[0mout\u001b[0m\u001b[0;34m=\u001b[0m\u001b[0mtree\u001b[0m\u001b[0;34m.\u001b[0m\u001b[0mexport_graphviz\u001b[0m\u001b[0;34m(\u001b[0m\u001b[0mloanTree\u001b[0m\u001b[0;34m,\u001b[0m\u001b[0mfeature_names\u001b[0m\u001b[0;34m=\u001b[0m\u001b[0mfeatureNames\u001b[0m\u001b[0;34m,\u001b[0m \u001b[0mout_file\u001b[0m\u001b[0;34m=\u001b[0m\u001b[0mdot_data\u001b[0m\u001b[0;34m,\u001b[0m \u001b[0mclass_names\u001b[0m\u001b[0;34m=\u001b[0m \u001b[0mnp\u001b[0m\u001b[0;34m.\u001b[0m\u001b[0munique\u001b[0m\u001b[0;34m(\u001b[0m\u001b[0my_trainset\u001b[0m\u001b[0;34m)\u001b[0m\u001b[0;34m,\u001b[0m \u001b[0mfilled\u001b[0m\u001b[0;34m=\u001b[0m\u001b[0;32mTrue\u001b[0m\u001b[0;34m,\u001b[0m  \u001b[0mspecial_characters\u001b[0m\u001b[0;34m=\u001b[0m\u001b[0;32mTrue\u001b[0m\u001b[0;34m,\u001b[0m\u001b[0mrotate\u001b[0m\u001b[0;34m=\u001b[0m\u001b[0;32mFalse\u001b[0m\u001b[0;34m)\u001b[0m\u001b[0;34m\u001b[0m\u001b[0;34m\u001b[0m\u001b[0m\n\u001b[0m\u001b[1;32m      9\u001b[0m \u001b[0mgraph\u001b[0m \u001b[0;34m=\u001b[0m \u001b[0mpydotplus\u001b[0m\u001b[0;34m.\u001b[0m\u001b[0mgraph_from_dot_data\u001b[0m\u001b[0;34m(\u001b[0m\u001b[0mdot_data\u001b[0m\u001b[0;34m.\u001b[0m\u001b[0mgetvalue\u001b[0m\u001b[0;34m(\u001b[0m\u001b[0;34m)\u001b[0m\u001b[0;34m)\u001b[0m\u001b[0;34m\u001b[0m\u001b[0;34m\u001b[0m\u001b[0m\n\u001b[1;32m     10\u001b[0m \u001b[0mgraph\u001b[0m\u001b[0;34m.\u001b[0m\u001b[0mwrite_png\u001b[0m\u001b[0;34m(\u001b[0m\u001b[0mfilename\u001b[0m\u001b[0;34m)\u001b[0m\u001b[0;34m\u001b[0m\u001b[0;34m\u001b[0m\u001b[0m\n",
      "\u001b[0;32m~/anaconda3/lib/python3.8/site-packages/sklearn/utils/validation.py\u001b[0m in \u001b[0;36minner_f\u001b[0;34m(*args, **kwargs)\u001b[0m\n\u001b[1;32m     61\u001b[0m             \u001b[0mextra_args\u001b[0m \u001b[0;34m=\u001b[0m \u001b[0mlen\u001b[0m\u001b[0;34m(\u001b[0m\u001b[0margs\u001b[0m\u001b[0;34m)\u001b[0m \u001b[0;34m-\u001b[0m \u001b[0mlen\u001b[0m\u001b[0;34m(\u001b[0m\u001b[0mall_args\u001b[0m\u001b[0;34m)\u001b[0m\u001b[0;34m\u001b[0m\u001b[0;34m\u001b[0m\u001b[0m\n\u001b[1;32m     62\u001b[0m             \u001b[0;32mif\u001b[0m \u001b[0mextra_args\u001b[0m \u001b[0;34m<=\u001b[0m \u001b[0;36m0\u001b[0m\u001b[0;34m:\u001b[0m\u001b[0;34m\u001b[0m\u001b[0;34m\u001b[0m\u001b[0m\n\u001b[0;32m---> 63\u001b[0;31m                 \u001b[0;32mreturn\u001b[0m \u001b[0mf\u001b[0m\u001b[0;34m(\u001b[0m\u001b[0;34m*\u001b[0m\u001b[0margs\u001b[0m\u001b[0;34m,\u001b[0m \u001b[0;34m**\u001b[0m\u001b[0mkwargs\u001b[0m\u001b[0;34m)\u001b[0m\u001b[0;34m\u001b[0m\u001b[0;34m\u001b[0m\u001b[0m\n\u001b[0m\u001b[1;32m     64\u001b[0m \u001b[0;34m\u001b[0m\u001b[0m\n\u001b[1;32m     65\u001b[0m             \u001b[0;31m# extra_args > 0\u001b[0m\u001b[0;34m\u001b[0m\u001b[0;34m\u001b[0m\u001b[0;34m\u001b[0m\u001b[0m\n",
      "\u001b[0;32m~/anaconda3/lib/python3.8/site-packages/sklearn/tree/_export.py\u001b[0m in \u001b[0;36mexport_graphviz\u001b[0;34m(decision_tree, out_file, max_depth, feature_names, class_names, label, filled, leaves_parallel, impurity, node_ids, proportion, rotate, rounded, special_characters, precision)\u001b[0m\n\u001b[1;32m    786\u001b[0m             \u001b[0mrounded\u001b[0m\u001b[0;34m=\u001b[0m\u001b[0mrounded\u001b[0m\u001b[0;34m,\u001b[0m \u001b[0mspecial_characters\u001b[0m\u001b[0;34m=\u001b[0m\u001b[0mspecial_characters\u001b[0m\u001b[0;34m,\u001b[0m\u001b[0;34m\u001b[0m\u001b[0;34m\u001b[0m\u001b[0m\n\u001b[1;32m    787\u001b[0m             precision=precision)\n\u001b[0;32m--> 788\u001b[0;31m         \u001b[0mexporter\u001b[0m\u001b[0;34m.\u001b[0m\u001b[0mexport\u001b[0m\u001b[0;34m(\u001b[0m\u001b[0mdecision_tree\u001b[0m\u001b[0;34m)\u001b[0m\u001b[0;34m\u001b[0m\u001b[0;34m\u001b[0m\u001b[0m\n\u001b[0m\u001b[1;32m    789\u001b[0m \u001b[0;34m\u001b[0m\u001b[0m\n\u001b[1;32m    790\u001b[0m         \u001b[0;32mif\u001b[0m \u001b[0mreturn_string\u001b[0m\u001b[0;34m:\u001b[0m\u001b[0;34m\u001b[0m\u001b[0;34m\u001b[0m\u001b[0m\n",
      "\u001b[0;32m~/anaconda3/lib/python3.8/site-packages/sklearn/tree/_export.py\u001b[0m in \u001b[0;36mexport\u001b[0;34m(self, decision_tree)\u001b[0m\n\u001b[1;32m    412\u001b[0m         \u001b[0;32mif\u001b[0m \u001b[0mself\u001b[0m\u001b[0;34m.\u001b[0m\u001b[0mfeature_names\u001b[0m \u001b[0;32mis\u001b[0m \u001b[0;32mnot\u001b[0m \u001b[0;32mNone\u001b[0m\u001b[0;34m:\u001b[0m\u001b[0;34m\u001b[0m\u001b[0;34m\u001b[0m\u001b[0m\n\u001b[1;32m    413\u001b[0m             \u001b[0;32mif\u001b[0m \u001b[0mlen\u001b[0m\u001b[0;34m(\u001b[0m\u001b[0mself\u001b[0m\u001b[0;34m.\u001b[0m\u001b[0mfeature_names\u001b[0m\u001b[0;34m)\u001b[0m \u001b[0;34m!=\u001b[0m \u001b[0mdecision_tree\u001b[0m\u001b[0;34m.\u001b[0m\u001b[0mn_features_\u001b[0m\u001b[0;34m:\u001b[0m\u001b[0;34m\u001b[0m\u001b[0;34m\u001b[0m\u001b[0m\n\u001b[0;32m--> 414\u001b[0;31m                 raise ValueError(\"Length of feature_names, %d \"\n\u001b[0m\u001b[1;32m    415\u001b[0m                                  \u001b[0;34m\"does not match number of features, %d\"\u001b[0m\u001b[0;34m\u001b[0m\u001b[0;34m\u001b[0m\u001b[0m\n\u001b[1;32m    416\u001b[0m                                  % (len(self.feature_names),\n",
      "\u001b[0;31mValueError\u001b[0m: Length of feature_names, 6 does not match number of features, 8"
     ]
    }
   ],
   "source": [
    "df =pd.read_csv('/home/nikki/ia/datasets/loan_train.csv')\n",
    "\n",
    "my_X=df[['Principal','terms','effective_date','age','education','Gender']]\n",
    "\n",
    "dot_data = io.StringIO()\n",
    "filename = \"loantree.png\"\n",
    "featureNames = my_X.columns[0:8]\n",
    "out=tree.export_graphviz(loanTree,feature_names=featureNames, out_file=dot_data, class_names= np.unique(y_trainset), filled=True,  special_characters=True,rotate=False)  \n",
    "graph = pydotplus.graph_from_dot_data(dot_data.getvalue())  \n",
    "graph.write_png(filename)\n",
    "img = mpimg.imread(filename)\n",
    "plt.figure(figsize=(100, 200))\n",
    "plt.imshow(img,interpolation='nearest')"
   ]
  },
  {
   "cell_type": "code",
   "execution_count": 45,
   "id": "f02d2165",
   "metadata": {},
   "outputs": [
    {
     "ename": "SyntaxError",
     "evalue": "invalid syntax (<ipython-input-45-5d254a3853cb>, line 1)",
     "output_type": "error",
     "traceback": [
      "\u001b[0;36m  File \u001b[0;32m\"<ipython-input-45-5d254a3853cb>\"\u001b[0;36m, line \u001b[0;32m1\u001b[0m\n\u001b[0;31m    SVM value\u001b[0m\n\u001b[0m        ^\u001b[0m\n\u001b[0;31mSyntaxError\u001b[0m\u001b[0;31m:\u001b[0m invalid syntax\n"
     ]
    }
   ],
   "source": [
    "SVM value"
   ]
  },
  {
   "cell_type": "code",
   "execution_count": 54,
   "id": "9f84c09a",
   "metadata": {},
   "outputs": [
    {
     "data": {
      "text/plain": [
       "array(['PAIDOFF', 'PAIDOFF', 'PAIDOFF', 'PAIDOFF', 'PAIDOFF'],\n",
       "      dtype=object)"
      ]
     },
     "execution_count": 54,
     "metadata": {},
     "output_type": "execute_result"
    }
   ],
   "source": [
    "\n",
    "from sklearn import svm\n",
    "X_trainset, X_testset, y_trainset, y_testset = train_test_split(X, y, test_size=0.3, random_state=3)\n",
    "\n",
    "#myls=df['loan_status'].replace(to_replace=['PAIDOFF','COLLECTION'],value=[0,1],inplace=True)\n",
    "clf = svm.SVC(kernel='rbf')\n",
    "clf.fit(X_trainset, y_trainset) \n",
    "yhat = clf.predict(X_testset)\n",
    "yhat [0:5]"
   ]
  },
  {
   "cell_type": "markdown",
   "id": "dd2b8ddc",
   "metadata": {},
   "source": [
    "metrics value for svm: f1_score\n"
   ]
  },
  {
   "cell_type": "code",
   "execution_count": 56,
   "id": "0a7045df",
   "metadata": {},
   "outputs": [
    {
     "data": {
      "text/plain": [
       "0.6299405014874628"
      ]
     },
     "execution_count": 56,
     "metadata": {},
     "output_type": "execute_result"
    }
   ],
   "source": [
    "from sklearn.metrics import f1_score\n",
    "f1_score(y_testset, yhat, average='weighted') "
   ]
  },
  {
   "cell_type": "markdown",
   "id": "87fc3814",
   "metadata": {},
   "source": [
    "Plot confusion matrix to visualize"
   ]
  },
  {
   "cell_type": "code",
   "execution_count": 55,
   "id": "81bec5b0",
   "metadata": {},
   "outputs": [],
   "source": [
    "import matplotlib.pyplot as plt\n",
    "def plot_confusion_matrix(cm, classes,\n",
    "                          normalize=False,\n",
    "                          title='Confusion matrix',\n",
    "                          cmap=plt.cm.Blues):\n",
    "    \"\"\"\n",
    "    This function prints and plots the confusion matrix.\n",
    "    Normalization can be applied by setting `normalize=True`.\n",
    "    \"\"\"\n",
    "    if normalize:\n",
    "        cm = cm.astype('float') / cm.sum(axis=1)[:, np.newaxis]\n",
    "        print(\"Normalized confusion matrix\")\n",
    "    else:\n",
    "        print('Confusion matrix, without normalization')\n",
    "\n",
    "    print(cm)\n",
    "\n",
    "    plt.imshow(cm, interpolation='nearest', cmap=cmap)\n",
    "    plt.title(title)\n",
    "    plt.colorbar()\n",
    "    tick_marks = np.arange(len(classes))\n",
    "    plt.xticks(tick_marks, classes, rotation=45)\n",
    "    plt.yticks(tick_marks, classes)\n",
    "\n",
    "    fmt = '.2f' if normalize else 'd'\n",
    "    thresh = cm.max() / 2.\n",
    "    for i, j in itertools.product(range(cm.shape[0]), range(cm.shape[1])):\n",
    "        plt.text(j, i, format(cm[i, j], fmt),\n",
    "                 horizontalalignment=\"center\",\n",
    "                 color=\"white\" if cm[i, j] > thresh else \"black\")\n",
    "\n",
    "    plt.tight_layout()\n",
    "    plt.ylabel('True label')\n",
    "    plt.xlabel('Predicted label')"
   ]
  },
  {
   "cell_type": "code",
   "execution_count": null,
   "id": "ffc3aa36",
   "metadata": {},
   "outputs": [],
   "source": []
  },
  {
   "cell_type": "code",
   "execution_count": null,
   "id": "b5bfabd1",
   "metadata": {},
   "outputs": [],
   "source": []
  },
  {
   "cell_type": "code",
   "execution_count": 7,
   "id": "f242d569",
   "metadata": {},
   "outputs": [],
   "source": [
    "#normalize => dummy"
   ]
  },
  {
   "cell_type": "code",
   "execution_count": 39,
   "id": "862a65d0",
   "metadata": {
    "scrolled": true
   },
   "outputs": [
    {
     "name": "stdout",
     "output_type": "stream",
     "text": [
      "Confusion matrix, without normalization\n",
      "None\n"
     ]
    },
    {
     "ename": "TypeError",
     "evalue": "Image data of dtype object cannot be converted to float",
     "output_type": "error",
     "traceback": [
      "\u001b[0;31m---------------------------------------------------------------------------\u001b[0m",
      "\u001b[0;31mTypeError\u001b[0m                                 Traceback (most recent call last)",
      "\u001b[0;32m<ipython-input-39-5dc68429b6f5>\u001b[0m in \u001b[0;36m<module>\u001b[0;34m\u001b[0m\n\u001b[1;32m      1\u001b[0m \u001b[0;31m# Compute confusion matrix\u001b[0m\u001b[0;34m\u001b[0m\u001b[0;34m\u001b[0m\u001b[0;34m\u001b[0m\u001b[0m\n\u001b[1;32m      2\u001b[0m \u001b[0;31m#cnf_matrix = plot_confusion_matrix(y_test, yhat, labels=[1,2])\u001b[0m\u001b[0;34m\u001b[0m\u001b[0;34m\u001b[0m\u001b[0;34m\u001b[0m\u001b[0m\n\u001b[0;32m----> 3\u001b[0;31m \u001b[0mnf_matrix\u001b[0m \u001b[0;34m=\u001b[0m \u001b[0mplot_confusion_matrix\u001b[0m\u001b[0;34m(\u001b[0m\u001b[0my_test\u001b[0m\u001b[0;34m,\u001b[0m \u001b[0myhat\u001b[0m\u001b[0;34m)\u001b[0m\u001b[0;34m\u001b[0m\u001b[0;34m\u001b[0m\u001b[0m\n\u001b[0m\u001b[1;32m      4\u001b[0m \u001b[0mnp\u001b[0m\u001b[0;34m.\u001b[0m\u001b[0mset_printoptions\u001b[0m\u001b[0;34m(\u001b[0m\u001b[0mprecision\u001b[0m\u001b[0;34m=\u001b[0m\u001b[0;36m2\u001b[0m\u001b[0;34m)\u001b[0m\u001b[0;34m\u001b[0m\u001b[0;34m\u001b[0m\u001b[0m\n\u001b[1;32m      5\u001b[0m \u001b[0;34m\u001b[0m\u001b[0m\n",
      "\u001b[0;32m<ipython-input-37-9953b5375b4c>\u001b[0m in \u001b[0;36mplot_confusion_matrix\u001b[0;34m(cm, classes, normalize, title, cmap)\u001b[0m\n\u001b[1;32m     16\u001b[0m     \u001b[0mprint\u001b[0m\u001b[0;34m(\u001b[0m\u001b[0mcm\u001b[0m\u001b[0;34m)\u001b[0m\u001b[0;34m\u001b[0m\u001b[0;34m\u001b[0m\u001b[0m\n\u001b[1;32m     17\u001b[0m \u001b[0;34m\u001b[0m\u001b[0m\n\u001b[0;32m---> 18\u001b[0;31m     \u001b[0mplt\u001b[0m\u001b[0;34m.\u001b[0m\u001b[0mimshow\u001b[0m\u001b[0;34m(\u001b[0m\u001b[0mcm\u001b[0m\u001b[0;34m,\u001b[0m \u001b[0minterpolation\u001b[0m\u001b[0;34m=\u001b[0m\u001b[0;34m'nearest'\u001b[0m\u001b[0;34m,\u001b[0m \u001b[0mcmap\u001b[0m\u001b[0;34m=\u001b[0m\u001b[0mcmap\u001b[0m\u001b[0;34m)\u001b[0m\u001b[0;34m\u001b[0m\u001b[0;34m\u001b[0m\u001b[0m\n\u001b[0m\u001b[1;32m     19\u001b[0m     \u001b[0mplt\u001b[0m\u001b[0;34m.\u001b[0m\u001b[0mtitle\u001b[0m\u001b[0;34m(\u001b[0m\u001b[0mtitle\u001b[0m\u001b[0;34m)\u001b[0m\u001b[0;34m\u001b[0m\u001b[0;34m\u001b[0m\u001b[0m\n\u001b[1;32m     20\u001b[0m     \u001b[0mplt\u001b[0m\u001b[0;34m.\u001b[0m\u001b[0mcolorbar\u001b[0m\u001b[0;34m(\u001b[0m\u001b[0;34m)\u001b[0m\u001b[0;34m\u001b[0m\u001b[0;34m\u001b[0m\u001b[0m\n",
      "\u001b[0;32m~/anaconda3/lib/python3.8/site-packages/matplotlib/pyplot.py\u001b[0m in \u001b[0;36mimshow\u001b[0;34m(X, cmap, norm, aspect, interpolation, alpha, vmin, vmax, origin, extent, filternorm, filterrad, resample, url, data, **kwargs)\u001b[0m\n\u001b[1;32m   2722\u001b[0m         \u001b[0mfilternorm\u001b[0m\u001b[0;34m=\u001b[0m\u001b[0;32mTrue\u001b[0m\u001b[0;34m,\u001b[0m \u001b[0mfilterrad\u001b[0m\u001b[0;34m=\u001b[0m\u001b[0;36m4.0\u001b[0m\u001b[0;34m,\u001b[0m \u001b[0mresample\u001b[0m\u001b[0;34m=\u001b[0m\u001b[0;32mNone\u001b[0m\u001b[0;34m,\u001b[0m \u001b[0murl\u001b[0m\u001b[0;34m=\u001b[0m\u001b[0;32mNone\u001b[0m\u001b[0;34m,\u001b[0m\u001b[0;34m\u001b[0m\u001b[0;34m\u001b[0m\u001b[0m\n\u001b[1;32m   2723\u001b[0m         data=None, **kwargs):\n\u001b[0;32m-> 2724\u001b[0;31m     __ret = gca().imshow(\n\u001b[0m\u001b[1;32m   2725\u001b[0m         \u001b[0mX\u001b[0m\u001b[0;34m,\u001b[0m \u001b[0mcmap\u001b[0m\u001b[0;34m=\u001b[0m\u001b[0mcmap\u001b[0m\u001b[0;34m,\u001b[0m \u001b[0mnorm\u001b[0m\u001b[0;34m=\u001b[0m\u001b[0mnorm\u001b[0m\u001b[0;34m,\u001b[0m \u001b[0maspect\u001b[0m\u001b[0;34m=\u001b[0m\u001b[0maspect\u001b[0m\u001b[0;34m,\u001b[0m\u001b[0;34m\u001b[0m\u001b[0;34m\u001b[0m\u001b[0m\n\u001b[1;32m   2726\u001b[0m         \u001b[0minterpolation\u001b[0m\u001b[0;34m=\u001b[0m\u001b[0minterpolation\u001b[0m\u001b[0;34m,\u001b[0m \u001b[0malpha\u001b[0m\u001b[0;34m=\u001b[0m\u001b[0malpha\u001b[0m\u001b[0;34m,\u001b[0m \u001b[0mvmin\u001b[0m\u001b[0;34m=\u001b[0m\u001b[0mvmin\u001b[0m\u001b[0;34m,\u001b[0m\u001b[0;34m\u001b[0m\u001b[0;34m\u001b[0m\u001b[0m\n",
      "\u001b[0;32m~/anaconda3/lib/python3.8/site-packages/matplotlib/__init__.py\u001b[0m in \u001b[0;36minner\u001b[0;34m(ax, data, *args, **kwargs)\u001b[0m\n\u001b[1;32m   1445\u001b[0m     \u001b[0;32mdef\u001b[0m \u001b[0minner\u001b[0m\u001b[0;34m(\u001b[0m\u001b[0max\u001b[0m\u001b[0;34m,\u001b[0m \u001b[0;34m*\u001b[0m\u001b[0margs\u001b[0m\u001b[0;34m,\u001b[0m \u001b[0mdata\u001b[0m\u001b[0;34m=\u001b[0m\u001b[0;32mNone\u001b[0m\u001b[0;34m,\u001b[0m \u001b[0;34m**\u001b[0m\u001b[0mkwargs\u001b[0m\u001b[0;34m)\u001b[0m\u001b[0;34m:\u001b[0m\u001b[0;34m\u001b[0m\u001b[0;34m\u001b[0m\u001b[0m\n\u001b[1;32m   1446\u001b[0m         \u001b[0;32mif\u001b[0m \u001b[0mdata\u001b[0m \u001b[0;32mis\u001b[0m \u001b[0;32mNone\u001b[0m\u001b[0;34m:\u001b[0m\u001b[0;34m\u001b[0m\u001b[0;34m\u001b[0m\u001b[0m\n\u001b[0;32m-> 1447\u001b[0;31m             \u001b[0;32mreturn\u001b[0m \u001b[0mfunc\u001b[0m\u001b[0;34m(\u001b[0m\u001b[0max\u001b[0m\u001b[0;34m,\u001b[0m \u001b[0;34m*\u001b[0m\u001b[0mmap\u001b[0m\u001b[0;34m(\u001b[0m\u001b[0msanitize_sequence\u001b[0m\u001b[0;34m,\u001b[0m \u001b[0margs\u001b[0m\u001b[0;34m)\u001b[0m\u001b[0;34m,\u001b[0m \u001b[0;34m**\u001b[0m\u001b[0mkwargs\u001b[0m\u001b[0;34m)\u001b[0m\u001b[0;34m\u001b[0m\u001b[0;34m\u001b[0m\u001b[0m\n\u001b[0m\u001b[1;32m   1448\u001b[0m \u001b[0;34m\u001b[0m\u001b[0m\n\u001b[1;32m   1449\u001b[0m         \u001b[0mbound\u001b[0m \u001b[0;34m=\u001b[0m \u001b[0mnew_sig\u001b[0m\u001b[0;34m.\u001b[0m\u001b[0mbind\u001b[0m\u001b[0;34m(\u001b[0m\u001b[0max\u001b[0m\u001b[0;34m,\u001b[0m \u001b[0;34m*\u001b[0m\u001b[0margs\u001b[0m\u001b[0;34m,\u001b[0m \u001b[0;34m**\u001b[0m\u001b[0mkwargs\u001b[0m\u001b[0;34m)\u001b[0m\u001b[0;34m\u001b[0m\u001b[0;34m\u001b[0m\u001b[0m\n",
      "\u001b[0;32m~/anaconda3/lib/python3.8/site-packages/matplotlib/axes/_axes.py\u001b[0m in \u001b[0;36mimshow\u001b[0;34m(self, X, cmap, norm, aspect, interpolation, alpha, vmin, vmax, origin, extent, filternorm, filterrad, resample, url, **kwargs)\u001b[0m\n\u001b[1;32m   5521\u001b[0m                               resample=resample, **kwargs)\n\u001b[1;32m   5522\u001b[0m \u001b[0;34m\u001b[0m\u001b[0m\n\u001b[0;32m-> 5523\u001b[0;31m         \u001b[0mim\u001b[0m\u001b[0;34m.\u001b[0m\u001b[0mset_data\u001b[0m\u001b[0;34m(\u001b[0m\u001b[0mX\u001b[0m\u001b[0;34m)\u001b[0m\u001b[0;34m\u001b[0m\u001b[0;34m\u001b[0m\u001b[0m\n\u001b[0m\u001b[1;32m   5524\u001b[0m         \u001b[0mim\u001b[0m\u001b[0;34m.\u001b[0m\u001b[0mset_alpha\u001b[0m\u001b[0;34m(\u001b[0m\u001b[0malpha\u001b[0m\u001b[0;34m)\u001b[0m\u001b[0;34m\u001b[0m\u001b[0;34m\u001b[0m\u001b[0m\n\u001b[1;32m   5525\u001b[0m         \u001b[0;32mif\u001b[0m \u001b[0mim\u001b[0m\u001b[0;34m.\u001b[0m\u001b[0mget_clip_path\u001b[0m\u001b[0;34m(\u001b[0m\u001b[0;34m)\u001b[0m \u001b[0;32mis\u001b[0m \u001b[0;32mNone\u001b[0m\u001b[0;34m:\u001b[0m\u001b[0;34m\u001b[0m\u001b[0;34m\u001b[0m\u001b[0m\n",
      "\u001b[0;32m~/anaconda3/lib/python3.8/site-packages/matplotlib/image.py\u001b[0m in \u001b[0;36mset_data\u001b[0;34m(self, A)\u001b[0m\n\u001b[1;32m    700\u001b[0m         if (self._A.dtype != np.uint8 and\n\u001b[1;32m    701\u001b[0m                 not np.can_cast(self._A.dtype, float, \"same_kind\")):\n\u001b[0;32m--> 702\u001b[0;31m             raise TypeError(\"Image data of dtype {} cannot be converted to \"\n\u001b[0m\u001b[1;32m    703\u001b[0m                             \"float\".format(self._A.dtype))\n\u001b[1;32m    704\u001b[0m \u001b[0;34m\u001b[0m\u001b[0m\n",
      "\u001b[0;31mTypeError\u001b[0m: Image data of dtype object cannot be converted to float"
     ]
    },
    {
     "data": {
      "image/png": "[encoded data removed]",
      "text/plain": [
       "<Figure size 432x288 with 1 Axes>"
      ]
     },
     "metadata": {
      "needs_background": "light"
     },
     "output_type": "display_data"
    }
   ],
   "source": [
    "# Compute confusion matrix\n",
    "#cnf_matrix = plot_confusion_matrix(y_test, yhat, labels=[1,2])\n",
    "nf_matrix = plot_confusion_matrix(y_test, yhat)\n",
    "np.set_printoptions(precision=2)\n",
    "\n",
    "print (classification_report(y_test, yhat))\n",
    "\n",
    "# Plot non-normalized confusion matrix\n",
    "plt.figure()\n",
    "plot_confusion_matrix(cnf_matrix, classes=['PAIDOFF(1)','COLLECTION(2)'],normalize= False,  title='Confusion matrix loan')"
   ]
  },
  {
   "cell_type": "code",
   "execution_count": 9,
   "id": "d969a706",
   "metadata": {},
   "outputs": [],
   "source": [
    "#metrics\n"
   ]
  },
  {
   "cell_type": "code",
   "execution_count": null,
   "id": "984210b5",
   "metadata": {},
   "outputs": [],
   "source": []
  },
  {
   "cell_type": "code",
   "execution_count": null,
   "id": "8d90c9f9",
   "metadata": {},
   "outputs": [],
   "source": []
  },
  {
   "cell_type": "code",
   "execution_count": null,
   "id": "8580e61a",
   "metadata": {},
   "outputs": [],
   "source": []
  }
 ],
 "metadata": {
  "kernelspec": {
   "display_name": "Python 3 (ipykernel)",
   "language": "python",
   "name": "python3"
  },
  "language_info": {
   "codemirror_mode": {
    "name": "ipython",
    "version": 3
   },
   "file_extension": ".py",
   "mimetype": "text/x-python",
   "name": "python",
   "nbconvert_exporter": "python",
   "pygments_lexer": "ipython3",
   "version": "3.8.10"
  }
 },
 "nbformat": 4,
 "nbformat_minor": 5
}
